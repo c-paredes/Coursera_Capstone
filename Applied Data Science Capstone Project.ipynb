{
    "cells": [
        {
            "cell_type": "code",
            "execution_count": 2,
            "metadata": {},
            "outputs": [
                {
                    "data": {
                        "text/html": "<div>\n<style scoped>\n    .dataframe tbody tr th:only-of-type {\n        vertical-align: middle;\n    }\n\n    .dataframe tbody tr th {\n        vertical-align: top;\n    }\n\n    .dataframe thead th {\n        text-align: right;\n    }\n</style>\n<table border=\"1\" class=\"dataframe\">\n  <thead>\n    <tr style=\"text-align: right;\">\n      <th></th>\n      <th>city</th>\n      <th>city_ascii</th>\n      <th>lat</th>\n      <th>lng</th>\n      <th>country</th>\n      <th>iso2</th>\n      <th>iso3</th>\n      <th>admin_name</th>\n      <th>capital</th>\n      <th>population</th>\n      <th>id</th>\n    </tr>\n  </thead>\n  <tbody>\n    <tr>\n      <th>0</th>\n      <td>Tokyo</td>\n      <td>Tokyo</td>\n      <td>35.6850</td>\n      <td>139.7514</td>\n      <td>Japan</td>\n      <td>JP</td>\n      <td>JPN</td>\n      <td>T\u014dky\u014d</td>\n      <td>primary</td>\n      <td>35676000.0</td>\n      <td>1392685764</td>\n    </tr>\n    <tr>\n      <th>1</th>\n      <td>New York</td>\n      <td>New York</td>\n      <td>40.6943</td>\n      <td>-73.9249</td>\n      <td>United States</td>\n      <td>US</td>\n      <td>USA</td>\n      <td>New York</td>\n      <td>NaN</td>\n      <td>19354922.0</td>\n      <td>1840034016</td>\n    </tr>\n    <tr>\n      <th>2</th>\n      <td>Mexico City</td>\n      <td>Mexico City</td>\n      <td>19.4424</td>\n      <td>-99.1310</td>\n      <td>Mexico</td>\n      <td>MX</td>\n      <td>MEX</td>\n      <td>Ciudad de M\u00e9xico</td>\n      <td>primary</td>\n      <td>19028000.0</td>\n      <td>1484247881</td>\n    </tr>\n    <tr>\n      <th>3</th>\n      <td>Mumbai</td>\n      <td>Mumbai</td>\n      <td>19.0170</td>\n      <td>72.8570</td>\n      <td>India</td>\n      <td>IN</td>\n      <td>IND</td>\n      <td>Mah\u0101r\u0101shtra</td>\n      <td>admin</td>\n      <td>18978000.0</td>\n      <td>1356226629</td>\n    </tr>\n    <tr>\n      <th>4</th>\n      <td>S\u00e3o Paulo</td>\n      <td>Sao Paulo</td>\n      <td>-23.5587</td>\n      <td>-46.6250</td>\n      <td>Brazil</td>\n      <td>BR</td>\n      <td>BRA</td>\n      <td>S\u00e3o Paulo</td>\n      <td>admin</td>\n      <td>18845000.0</td>\n      <td>1076532519</td>\n    </tr>\n  </tbody>\n</table>\n</div>",
                        "text/plain": "          city   city_ascii      lat       lng        country iso2 iso3  \\\n0        Tokyo        Tokyo  35.6850  139.7514          Japan   JP  JPN   \n1     New York     New York  40.6943  -73.9249  United States   US  USA   \n2  Mexico City  Mexico City  19.4424  -99.1310         Mexico   MX  MEX   \n3       Mumbai       Mumbai  19.0170   72.8570          India   IN  IND   \n4    S\u00e3o Paulo    Sao Paulo -23.5587  -46.6250         Brazil   BR  BRA   \n\n         admin_name  capital  population          id  \n0             T\u014dky\u014d  primary  35676000.0  1392685764  \n1          New York      NaN  19354922.0  1840034016  \n2  Ciudad de M\u00e9xico  primary  19028000.0  1484247881  \n3       Mah\u0101r\u0101shtra    admin  18978000.0  1356226629  \n4         S\u00e3o Paulo    admin  18845000.0  1076532519  "
                    },
                    "execution_count": 2,
                    "metadata": {},
                    "output_type": "execute_result"
                }
            ],
            "source": "# The code was removed by Watson Studio for sharing."
        },
        {
            "cell_type": "code",
            "execution_count": 5,
            "metadata": {},
            "outputs": [],
            "source": "capitals = df_data_0[df_data_0['capital'] == 'primary']"
        },
        {
            "cell_type": "code",
            "execution_count": 3,
            "metadata": {},
            "outputs": [
                {
                    "data": {
                        "text/plain": "(15493, 11)"
                    },
                    "execution_count": 3,
                    "metadata": {},
                    "output_type": "execute_result"
                }
            ],
            "source": "df_data_0.shape"
        },
        {
            "cell_type": "code",
            "execution_count": 7,
            "metadata": {},
            "outputs": [
                {
                    "data": {
                        "text/html": "<div>\n<style scoped>\n    .dataframe tbody tr th:only-of-type {\n        vertical-align: middle;\n    }\n\n    .dataframe tbody tr th {\n        vertical-align: top;\n    }\n\n    .dataframe thead th {\n        text-align: right;\n    }\n</style>\n<table border=\"1\" class=\"dataframe\">\n  <thead>\n    <tr style=\"text-align: right;\">\n      <th></th>\n      <th>city</th>\n      <th>city_ascii</th>\n      <th>lat</th>\n      <th>lng</th>\n      <th>country</th>\n      <th>iso2</th>\n      <th>iso3</th>\n      <th>admin_name</th>\n      <th>capital</th>\n      <th>population</th>\n      <th>id</th>\n    </tr>\n  </thead>\n  <tbody>\n    <tr>\n      <th>0</th>\n      <td>Tokyo</td>\n      <td>Tokyo</td>\n      <td>35.6850</td>\n      <td>139.7514</td>\n      <td>Japan</td>\n      <td>JP</td>\n      <td>JPN</td>\n      <td>T\u014dky\u014d</td>\n      <td>primary</td>\n      <td>35676000.0</td>\n      <td>1392685764</td>\n    </tr>\n    <tr>\n      <th>2</th>\n      <td>Mexico City</td>\n      <td>Mexico City</td>\n      <td>19.4424</td>\n      <td>-99.1310</td>\n      <td>Mexico</td>\n      <td>MX</td>\n      <td>MEX</td>\n      <td>Ciudad de M\u00e9xico</td>\n      <td>primary</td>\n      <td>19028000.0</td>\n      <td>1484247881</td>\n    </tr>\n    <tr>\n      <th>9</th>\n      <td>Dhaka</td>\n      <td>Dhaka</td>\n      <td>23.7231</td>\n      <td>90.4086</td>\n      <td>Bangladesh</td>\n      <td>BD</td>\n      <td>BGD</td>\n      <td>Dhaka</td>\n      <td>primary</td>\n      <td>12797394.0</td>\n      <td>1050529279</td>\n    </tr>\n    <tr>\n      <th>10</th>\n      <td>Buenos Aires</td>\n      <td>Buenos Aires</td>\n      <td>-34.6025</td>\n      <td>-58.3975</td>\n      <td>Argentina</td>\n      <td>AR</td>\n      <td>ARG</td>\n      <td>Buenos Aires, Ciudad Aut\u00f3noma de</td>\n      <td>primary</td>\n      <td>12795000.0</td>\n      <td>1032717330</td>\n    </tr>\n    <tr>\n      <th>12</th>\n      <td>Cairo</td>\n      <td>Cairo</td>\n      <td>30.0500</td>\n      <td>31.2500</td>\n      <td>Egypt</td>\n      <td>EG</td>\n      <td>EGY</td>\n      <td>Al Q\u0101hirah</td>\n      <td>primary</td>\n      <td>11893000.0</td>\n      <td>1818253931</td>\n    </tr>\n  </tbody>\n</table>\n</div>",
                        "text/plain": "            city    city_ascii      lat       lng     country iso2 iso3  \\\n0          Tokyo         Tokyo  35.6850  139.7514       Japan   JP  JPN   \n2    Mexico City   Mexico City  19.4424  -99.1310      Mexico   MX  MEX   \n9          Dhaka         Dhaka  23.7231   90.4086  Bangladesh   BD  BGD   \n10  Buenos Aires  Buenos Aires -34.6025  -58.3975   Argentina   AR  ARG   \n12         Cairo         Cairo  30.0500   31.2500       Egypt   EG  EGY   \n\n                          admin_name  capital  population          id  \n0                              T\u014dky\u014d  primary  35676000.0  1392685764  \n2                   Ciudad de M\u00e9xico  primary  19028000.0  1484247881  \n9                              Dhaka  primary  12797394.0  1050529279  \n10  Buenos Aires, Ciudad Aut\u00f3noma de  primary  12795000.0  1032717330  \n12                        Al Q\u0101hirah  primary  11893000.0  1818253931  "
                    },
                    "execution_count": 7,
                    "metadata": {},
                    "output_type": "execute_result"
                }
            ],
            "source": "capitals.head()"
        },
        {
            "cell_type": "code",
            "execution_count": null,
            "metadata": {},
            "outputs": [],
            "source": ""
        }
    ],
    "metadata": {
        "kernelspec": {
            "display_name": "Python 3.6",
            "language": "python",
            "name": "python3"
        },
        "language_info": {
            "codemirror_mode": {
                "name": "ipython",
                "version": 3
            },
            "file_extension": ".py",
            "mimetype": "text/x-python",
            "name": "python",
            "nbconvert_exporter": "python",
            "pygments_lexer": "ipython3",
            "version": "3.6.9"
        }
    },
    "nbformat": 4,
    "nbformat_minor": 1
}